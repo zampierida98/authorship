{
 "cells": [
  {
   "cell_type": "code",
   "execution_count": 1,
   "metadata": {},
   "outputs": [],
   "source": [
    "'''\n",
    "Definizione delle funzioni di supporto\n",
    "'''\n",
    "\n",
    "def remove_number(row):\n",
    "    '''\n",
    "    remove_number:   rimuove i caratteri numerici dalla stringa e la trasforma in lower-case\n",
    "    '''\n",
    "    lowercase = row.lower()\n",
    "    res = \"\"\n",
    "    \n",
    "    for char in lowercase:\n",
    "        if not ('0' <= char <= '9'):\n",
    "            res += char\n",
    "\n",
    "    return res\n",
    "\n",
    "def remove_number_punctuation_marks(row):\n",
    "    '''\n",
    "    remove_number:   rimuove i caratteri numerici dalla stringa e i segni di punteggiatura \n",
    "                     e la trasforma in lower-case\n",
    "    '''\n",
    "    \n",
    "    lowercase = row.lower()\n",
    "    res = \"\"\n",
    "    \n",
    "    for char in lowercase:\n",
    "        if 'a' <= char <= 'z' or char == ' ' or char == '-' or char == \"'\":\n",
    "            res += char\n",
    "\n",
    "    return res"
   ]
  },
  {
   "cell_type": "code",
   "execution_count": 2,
   "metadata": {},
   "outputs": [],
   "source": [
    "'''\n",
    "Definizione delle funzioni che calcolano le metriche per la Authorship Authentication\n",
    "'''\n",
    "\n",
    "def word_counter(RDD):\n",
    "    '''\n",
    "    word_counter:   è la funzione che dato un RDD conta il numero di volte che compare una parola.\n",
    "                    Inoltre per risparmiare operazioni ritorna anche l'ATTRIBUTO VOCABULARY_SIZE\n",
    "    '''\n",
    "    word_counter = (RDD.flatMap(lambda x: x)\n",
    "                .map(lambda x: (x,1))\n",
    "                .reduceByKey(lambda a,b: a+b)\n",
    "                .sortBy(lambda x: -x[1])\n",
    "               )\n",
    "    return word_counter.collect(), len(word_counter.collect())\n",
    "\n",
    "def text_length_in_words(word_count):\n",
    "    '''\n",
    "    text_length_in_words:   calcola il numero di parole del testo usando word_counter\n",
    "    '''\n",
    "    s = 0\n",
    "    for couple in word_count:\n",
    "        s += couple[1]\n",
    "    return s\n",
    "\n",
    "def ratio_V_T(voc_size, text_len):\n",
    "    '''\n",
    "    ratio_V_T:   calcola il rapporto fra la dimensione del vocabolario e il numero totale di parole\n",
    "                 nel testo\n",
    "    '''\n",
    "    return voc_size / text_len\n",
    "\n",
    "def hentropy(word_count,text_len):\n",
    "    import math\n",
    "    '''\n",
    "    hentropy:   funzione che calcola l'entropia usando l'Entropia di Gibbs. L'unica differenza\n",
    "                è la mancanza della costante di Boltzmann\n",
    "    '''\n",
    "    s = 0\n",
    "    \n",
    "    for couple in word_count:\n",
    "        s += (couple[1]/text_len) * math.log2(couple[1]/text_len)\n",
    "    \n",
    "    return -s\n",
    "\n",
    "def maximum_sentence_length(sentence_collection):\n",
    "    '''\n",
    "    maximum_sentence_length:   funzione che calcola la lunghezza (in numero di parole) della frase\n",
    "                               più lunga\n",
    "    '''\n",
    "    _max = float(\"-inf\")\n",
    "    \n",
    "    for sentence in sentence_collection:\n",
    "        if len(sentence) > _max:\n",
    "            _max = len(sentence)\n",
    "    return _max\n",
    "\n",
    "def minimum_sentence_length(sentence_collection):\n",
    "    '''\n",
    "    minimum_sentence_length:   funzione che calcola la lunghezza (in numero di parole) della frase\n",
    "                               più corta\n",
    "    '''\n",
    "    _min = float(\"inf\")\n",
    "    \n",
    "    for sentence in sentence_collection:\n",
    "        if len(sentence) < _min:\n",
    "            _min = len(sentence)\n",
    "    return _min\n",
    "\n",
    "def average_sentence_length(sentence_collection):\n",
    "    '''\n",
    "    average_sentence_length:   funzione che calcola la lunghezza media(in numero di parole)\n",
    "                               delle frasi del testo\n",
    "    '''\n",
    "    _sum = 0\n",
    "    \n",
    "    for sentence in sentence_collection:\n",
    "        _sum += len(sentence)\n",
    "    return _sum / len(sentence_collection)"
   ]
  },
  {
   "cell_type": "code",
   "execution_count": 3,
   "metadata": {},
   "outputs": [
    {
     "data": {
      "text/plain": [
       "PythonRDD[2] at RDD at PythonRDD.scala:53"
      ]
     },
     "execution_count": 3,
     "metadata": {},
     "output_type": "execute_result"
    }
   ],
   "source": [
    "# CARICAMENTO DATASET\n",
    "\n",
    "rawData = sc.textFile(\"datasets/Anthony Trollope___The O'Conors of Castle Conor from Tales from all Countries.txt\")\n",
    "\n",
    "# RIMUOVIAMO NUMERI + SEGNI DI PUNTEGGIATURA\n",
    "data = (rawData.filter(bool)                    # rimuoviamo le stringhe vuote\n",
    "        .map(remove_number_punctuation_marks)\n",
    "        .map(lambda x : ' '.join(x.split()))    # rimuoviamo diversi spazi bianchi con uno\n",
    "        .map(lambda row : row.split(\" \"))\n",
    "       )\n",
    "\n",
    "# POSIAMO I DATI NELLA CACHE\n",
    "data.persist()"
   ]
  },
  {
   "cell_type": "code",
   "execution_count": 4,
   "metadata": {},
   "outputs": [],
   "source": [
    "# word_counter, e ATTRIBUTO vocabulary_size\n",
    "word_count, voc_size = word_counter(data)"
   ]
  },
  {
   "cell_type": "code",
   "execution_count": 5,
   "metadata": {},
   "outputs": [],
   "source": [
    "# SOMMA LE FREQUENZE DENTRO word_count PER TROVARE L'ATTRIBUTO text_length_in_words\n",
    "text_len = text_length_in_words(word_count)"
   ]
  },
  {
   "cell_type": "code",
   "execution_count": 6,
   "metadata": {},
   "outputs": [],
   "source": [
    "# ATTRIBUTO definito rapporto vocabulary_size / text_length_in_words\n",
    "V_T = ratio_V_T(voc_size, text_len)"
   ]
  },
  {
   "cell_type": "code",
   "execution_count": 7,
   "metadata": {},
   "outputs": [
    {
     "data": {
      "text/plain": [
       "8.639377320109679"
      ]
     },
     "execution_count": 7,
     "metadata": {},
     "output_type": "execute_result"
    }
   ],
   "source": [
    "# ENTROPIA misura formalmente la quantità di disordine\n",
    "hentropy(word_count,text_len)"
   ]
  },
  {
   "cell_type": "code",
   "execution_count": 8,
   "metadata": {},
   "outputs": [
    {
     "data": {
      "text/plain": [
       "16"
      ]
     },
     "execution_count": 8,
     "metadata": {},
     "output_type": "execute_result"
    }
   ],
   "source": [
    "maximum_sentence_length(data.collect())\n",
    "#minimum_sentence_length(data.collect())\n",
    "#average_sentence_length(data.collect())"
   ]
  },
  {
   "cell_type": "code",
   "execution_count": null,
   "metadata": {},
   "outputs": [],
   "source": []
  }
 ],
 "metadata": {
  "kernelspec": {
   "display_name": "Python 3",
   "language": "python",
   "name": "python3"
  },
  "language_info": {
   "codemirror_mode": {
    "name": "ipython",
    "version": 3
   },
   "file_extension": ".py",
   "mimetype": "text/x-python",
   "name": "python",
   "nbconvert_exporter": "python",
   "pygments_lexer": "ipython3",
   "version": "3.7.7"
  }
 },
 "nbformat": 4,
 "nbformat_minor": 4
}
