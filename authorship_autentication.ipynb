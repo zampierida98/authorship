{
 "cells": [
  {
   "cell_type": "code",
   "execution_count": 19,
   "metadata": {},
   "outputs": [],
   "source": [
    "'''\n",
    "Definizione delle funzioni di supporto\n",
    "'''\n",
    "\n",
    "def remove_number_some_punctuation_marks(row):\n",
    "    '''\n",
    "    remove_number:   rimuove i caratteri numerici e il carattere '\"' dalla stringa e la trasforma in lower-case\n",
    "    '''\n",
    "    lowercase = row.lower()\n",
    "    res = \"\"\n",
    "    \n",
    "    for char in lowercase:\n",
    "        if not ('0' <= char <= '9' or char == '\"'):\n",
    "            res += char\n",
    "\n",
    "    return res\n",
    "\n",
    "def remove_number_punctuation_marks(row):\n",
    "    '''\n",
    "    remove_number:   rimuove i caratteri numerici dalla stringa e i segni di punteggiatura \n",
    "                     e la trasforma in lower-case\n",
    "    '''\n",
    "    \n",
    "    lowercase = row.lower()\n",
    "    res = \"\"\n",
    "    \n",
    "    for char in lowercase:\n",
    "        if 'a' <= char <= 'z' or char == ' ' or char == '-' or char == \"'\":\n",
    "            res += char\n",
    "\n",
    "    return res"
   ]
  },
  {
   "cell_type": "code",
   "execution_count": 74,
   "metadata": {},
   "outputs": [],
   "source": [
    "'''\n",
    "Definizione delle funzioni che calcolano le metriche per la Authorship Attribution\n",
    "'''\n",
    "\n",
    "def word_counter(RDD):\n",
    "    '''\n",
    "    word_counter:   è la funzione che dato un RDD conta il numero di volte che compare una parola.\n",
    "                    Inoltre per risparmiare operazioni ritorna anche l'ATTRIBUTO VOCABULARY_SIZE\n",
    "    '''\n",
    "    word_counter = (RDD.flatMap(lambda x: x)\n",
    "                .map(lambda x: (x,1))\n",
    "                .reduceByKey(lambda a,b: a+b)\n",
    "                .sortBy(lambda x: -x[1])\n",
    "               )\n",
    "    return word_counter.collect(), len(word_counter.collect())\n",
    "\n",
    "def text_length_in_words(word_count):\n",
    "    '''\n",
    "    text_length_in_words:   calcola il numero di parole del testo usando word_counter\n",
    "    '''\n",
    "    s = 0\n",
    "    for couple in word_count:\n",
    "        s += couple[1]\n",
    "    return s\n",
    "\n",
    "def ratio_V_T(voc_size, text_len):\n",
    "    '''\n",
    "    ratio_V_T:   calcola il rapporto fra la dimensione del vocabolario e il numero totale di parole\n",
    "                 nel testo\n",
    "    '''\n",
    "    return voc_size / text_len\n",
    "\n",
    "def hentropy(word_count,text_len):\n",
    "    import math\n",
    "    '''\n",
    "    hentropy:   funzione che calcola l'entropia usando l'Entropia di Gibbs. L'unica differenza\n",
    "                è la mancanza della costante di Boltzmann\n",
    "    '''\n",
    "    s = 0\n",
    "    \n",
    "    for couple in word_count:\n",
    "        s += (couple[1]/text_len) * math.log2(couple[1]/text_len)\n",
    "    \n",
    "    return -s\n",
    "\n",
    "def maximum_sentence_length(sentence_collection):\n",
    "    '''\n",
    "    maximum_sentence_length:   funzione che calcola la lunghezza (in numero di parole) della frase\n",
    "                               più lunga\n",
    "    '''\n",
    "    _max = float(\"-inf\")\n",
    "    \n",
    "    for sentence in sentence_collection:\n",
    "        if len(sentence) > _max:\n",
    "            _max = len(sentence)\n",
    "    return _max\n",
    "\n",
    "def minimum_sentence_length(sentence_collection):\n",
    "    '''\n",
    "    minimum_sentence_length:   funzione che calcola la lunghezza (in numero di parole) della frase\n",
    "                               più corta\n",
    "    '''\n",
    "    _min = float(\"inf\")\n",
    "    \n",
    "    for sentence in sentence_collection:\n",
    "        if len(sentence) < _min and len(sentence) > 0:\n",
    "            _min = len(sentence)\n",
    "    return _min\n",
    "\n",
    "def average_sentence_length(sentence_collection):\n",
    "    '''\n",
    "    average_sentence_length:   funzione che calcola la lunghezza media(in numero di parole)\n",
    "                               delle frasi del testo\n",
    "    '''\n",
    "    _sum = 0\n",
    "    \n",
    "    for sentence in sentence_collection:\n",
    "        _sum += len(sentence)\n",
    "    return _sum / len(sentence_collection)\n",
    "\n",
    "\n",
    "def prob_of_the_most_freq_sentence_len(sentence_collection):\n",
    "    '''\n",
    "    prob_of_the_most_freq_sentence_len:   funzione che calcola la probabilità\n",
    "            della lunghezza della frase più frequente\n",
    "    '''\n",
    "    \n",
    "    # coppia (lunghezza_frase, numero_frasi_con_\"lunghezza_frase\")\n",
    "    d = dict()\n",
    "    \n",
    "    for sentence in sentence_collection:\n",
    "        try:\n",
    "            d[len(sentence)] += 1\n",
    "        except:\n",
    "            d[len(sentence)] = 1\n",
    "    \n",
    "    _sum = 0\n",
    "    _max_freq = 0\n",
    "    \n",
    "    for key in d:\n",
    "        if _max_freq < d[key]:\n",
    "            _max_freq = d[key]\n",
    "\n",
    "        _sum += d[key]\n",
    "    \n",
    "    return _max_freq / _sum\n",
    "\n",
    "def prob_distr_of_30_most_common_words(word_count):\n",
    "    '''\n",
    "    prob_distr_of_30_most_common_words: funzione che ritorna una lista di probabilità\n",
    "                                        delle 30 parole di uso più comune\n",
    "    '''\n",
    "    # word_count è ordinato\n",
    "    \n",
    "    res = []\n",
    "    \n",
    "    _sum = 0\n",
    "    \n",
    "    for couple in word_count:\n",
    "        _sum += couple[1]\n",
    "    \n",
    "    for i in range(0, 30):\n",
    "        res.append((word_count[i][0], word_count[i][1] / _sum))\n",
    "        \n",
    "    return res\n",
    "\n",
    "def prob_of_The(word_count):\n",
    "    '''\n",
    "    prob_of_The: funzione che ritorna la probabilità di \"the\" \n",
    "    '''\n",
    "    _sum = 0\n",
    "    value = 0\n",
    "    for couple in word_count:\n",
    "        if couple[0] == \"the\":\n",
    "            value = couple[1]\n",
    "        _sum += couple[1]\n",
    "    \n",
    "    return value / _sum\n",
    "\n",
    "def prob_of_comma(sentences_collection):\n",
    "    '''\n",
    "    prob_of_The: funzione che ritorna la probabilità che capiti una virgola\n",
    "    '''\n",
    "    \n",
    "    _sum = 0\n",
    "    value = 0\n",
    "    for sentence in sentences_collection:\n",
    "        for word in sentences:            \n",
    "            if \",\" in word:\n",
    "                value += 1\n",
    "            _sum += 1\n",
    "\n",
    "    return value / _sum\n",
    "\n",
    "def prob_of_the_most_common_word(word_count):\n",
    "    '''\n",
    "    prob_of_the_most_common_word: funzione che ritorna la probabilità della parola più\n",
    "                                  comune escudendo \"the\" e \"and\"\n",
    "    '''\n",
    "    # distribuzione di probabilità\n",
    "    pd = prob_distr_of_30_most_common_words(word_count)\n",
    "    \n",
    "    for couple in pd:\n",
    "        if couple[0] != \"and\" and couple[0] != \"the\":\n",
    "            return couple\n",
    "        \n",
    "\n",
    "\n",
    "def MCW_except_the(word_count):\n",
    "    '''\n",
    "    MCW_except_the: funzione che ritorna la parola più comune a eccezione di \"the\"\n",
    "    '''\n",
    "    for couple in word_count:\n",
    "        if couple[0] != \"the\":\n",
    "            return couple[0]\n",
    "        \n",
    "def avg_distance_consec_appear_MCW(data):\n",
    "    '''\n",
    "    avg_distance_consec_appear_MCW: funzione che calcola la distanza media di due parole MCW consecutive.\n",
    "                                    MCW indica la parola di uso più comune escludendo la parola \"the\"\n",
    "    '''\n",
    "    MCW = MCW_except_the(word_counter(data)[0])\n",
    "    \n",
    "    ds = []\n",
    "    ds.append(1) # inizializziamo la lista delle distanze\n",
    "    \n",
    "    for sentence in data.collect():\n",
    "        for word in sentence:\n",
    "            if MCW == word:\n",
    "                ds.append(1)\n",
    "            else:\n",
    "                ds[len(ds) - 1] += 1\n",
    "    _avg = 0\n",
    "    \n",
    "    for d in ds:\n",
    "        _avg += d\n",
    "    \n",
    "    return _avg / len(ds)\n",
    "\n",
    "def min_distance_consec_appear_MCW(data):\n",
    "    MCW = MCW_except_the(word_counter(data)[0])\n",
    "    \n",
    "    ds = []\n",
    "    ds.append(1) # inizializziamo la lista delle distanze\n",
    "    \n",
    "    for sentence in data.collect():\n",
    "        for word in sentence:\n",
    "            if MCW == word:\n",
    "                ds.append(1)\n",
    "            else:\n",
    "                ds[len(ds) - 1] += 1\n",
    "\n",
    "    return min(ds)\n",
    "\n",
    "def max_distance_consec_appear_MCW(data):\n",
    "    MCW = MCW_except_the(word_counter(data)[0])\n",
    "    \n",
    "    ds = []\n",
    "    ds.append(1) # inizializziamo la lista delle distanze\n",
    "    \n",
    "    for sentence in data.collect():\n",
    "        for word in sentence:\n",
    "            if MCW == word:\n",
    "                ds.append(1)\n",
    "            else:\n",
    "                ds[len(ds) - 1] += 1\n",
    "\n",
    "    return max(ds)\n",
    "\n",
    "def avg_distance_consec_appear_of_The(data):\n",
    "    '''\n",
    "    avg_distance_consec_appear_MCW: funzione che calcola la distanza media di due parole \"the\" consecutive.\n",
    "                                    MCW indica la parola di uso più comune escludendo la parola \"the\"\n",
    "    '''    \n",
    "    ds = []\n",
    "    ds.append(1) # inizializziamo la lista delle distanze\n",
    "    \n",
    "    for sentence in data.collect():\n",
    "        for word in sentence:\n",
    "            if \"the\" == word:\n",
    "                ds.append(1)\n",
    "            else:\n",
    "                ds[len(ds) - 1] += 1\n",
    "    _avg = 0\n",
    "    \n",
    "    for d in ds:\n",
    "        _avg += d\n",
    "    \n",
    "    return _avg / len(ds)\n",
    "\n",
    "def min_distance_consec_appear_of_The(data):\n",
    "    '''\n",
    "    min_distance_consec_appear_of_The: funzione che calcola la distanza minima di due parole \"the\" consecutive.\n",
    "                                       MCW indica la parola di uso più comune escludendo la parola \"the\"\n",
    "    ''' \n",
    "    ds = []\n",
    "    ds.append(1) # inizializziamo la lista delle distanze\n",
    "    \n",
    "    for sentence in data.collect():\n",
    "        for word in sentence:\n",
    "            if \"the\" == word:\n",
    "                ds.append(1)\n",
    "            else:\n",
    "                ds[len(ds) - 1] += 1\n",
    "\n",
    "    return min(ds)\n",
    "\n",
    "def max_distance_consec_appear_of_The(data):\n",
    "    '''\n",
    "    max_distance_consec_appear_of_The: funzione che calcola la distanza massima di due parole \"the\" consecutive.\n",
    "                                       MCW indica la parola di uso più comune escludendo la parola \"the\"\n",
    "    ''' \n",
    "    ds = []\n",
    "    ds.append(1) # inizializziamo la lista delle distanze\n",
    "    \n",
    "    for sentence in data.collect():\n",
    "        for word in sentence:\n",
    "            if \"the\" == word:\n",
    "                ds.append(1)\n",
    "            else:\n",
    "                ds[len(ds) - 1] += 1\n",
    "\n",
    "    return max(ds)\n",
    "\n",
    "\n",
    "def avg_distance_consec_appear_of_comma(senteces_collection):\n",
    "    '''\n",
    "    avg_distance_consec_appear_of_comma: funzione che calcola la distanza media di due consecutive virgole.\n",
    "    '''    \n",
    "    ds = []\n",
    "    ds.append(1) # inizializziamo la lista delle distanze\n",
    "    \n",
    "    for sentence in senteces_collection:\n",
    "        for word in sentence:\n",
    "            if \",\" in word:\n",
    "                ds.append(1)\n",
    "            else:\n",
    "                ds[len(ds) - 1] += 1\n",
    "    _avg = 0\n",
    "    \n",
    "    for d in ds:\n",
    "        _avg += d\n",
    "    \n",
    "    return _avg / len(ds)\n",
    "\n",
    "def min_distance_consec_appear_of_comma(senteces_collection):\n",
    "    '''\n",
    "    min_distance_consec_appear_of_comma: funzione che calcola la distanza minima di due consecutive virgole.\n",
    "    ''' \n",
    "    ds = []\n",
    "    ds.append(1) # inizializziamo la lista delle distanze\n",
    "    \n",
    "    for sentence in senteces_collection:\n",
    "        for word in sentence:\n",
    "            if \",\" in word:\n",
    "                ds.append(1)\n",
    "            else:\n",
    "                ds[len(ds) - 1] += 1\n",
    "\n",
    "    return min(ds)\n",
    "\n",
    "def max_distance_consec_appear_of_comma(senteces_collection):\n",
    "    '''\n",
    "    max_distance_consec_appear_of_comma: funzione che calcola la distanza massima di due consecutive virgole.\n",
    "    ''' \n",
    "    ds = []\n",
    "    ds.append(1) # inizializziamo la lista delle distanze\n",
    "    \n",
    "    for sentence in senteces_collection:\n",
    "        for word in sentence:\n",
    "            if \",\" in word:\n",
    "                ds.append(1)\n",
    "            else:\n",
    "                ds[len(ds) - 1] += 1\n",
    "\n",
    "    return max(ds)"
   ]
  },
  {
   "cell_type": "code",
   "execution_count": 21,
   "metadata": {},
   "outputs": [
    {
     "data": {
      "text/plain": [
       "PythonRDD[26] at RDD at PythonRDD.scala:53"
      ]
     },
     "execution_count": 21,
     "metadata": {},
     "output_type": "execute_result"
    }
   ],
   "source": [
    "# CARICAMENTO DATASET\n",
    "\n",
    "rawData = sc.textFile(\"datasets/Anthony Trollope___The O'Conors of Castle Conor from Tales from all Countries.txt\")\n",
    "\n",
    "# RIMUOVIAMO NUMERI + SEGNI DI PUNTEGGIATURA\n",
    "data = (rawData.filter(bool)                    # rimuoviamo le stringhe vuote\n",
    "        .map(remove_number_punctuation_marks)\n",
    "        .map(lambda x : ' '.join(x.split()))    # rimuoviamo diversi spazi bianchi con uno\n",
    "        .map(lambda row : row.split(\" \"))\n",
    "       )\n",
    "\n",
    "# POSIAMO I DATI NELLA CACHE\n",
    "data.persist()"
   ]
  },
  {
   "cell_type": "code",
   "execution_count": 22,
   "metadata": {},
   "outputs": [],
   "source": [
    "# word_counter, e ATTRIBUTO vocabulary_size\n",
    "word_count, voc_size = word_counter(data)"
   ]
  },
  {
   "cell_type": "code",
   "execution_count": 23,
   "metadata": {},
   "outputs": [],
   "source": [
    "# SOMMA LE FREQUENZE DENTRO word_count PER TROVARE L'ATTRIBUTO text_length_in_words\n",
    "text_len = text_length_in_words(word_count)"
   ]
  },
  {
   "cell_type": "code",
   "execution_count": 24,
   "metadata": {},
   "outputs": [],
   "source": [
    "# ATTRIBUTO definito rapporto vocabulary_size / text_length_in_words\n",
    "V_T = ratio_V_T(voc_size, text_len)"
   ]
  },
  {
   "cell_type": "code",
   "execution_count": 25,
   "metadata": {},
   "outputs": [
    {
     "data": {
      "text/plain": [
       "8.639377320109679"
      ]
     },
     "execution_count": 25,
     "metadata": {},
     "output_type": "execute_result"
    }
   ],
   "source": [
    "# ENTROPIA misura formalmente la quantità di disordine\n",
    "hentropy(word_count,text_len)"
   ]
  },
  {
   "cell_type": "code",
   "execution_count": null,
   "metadata": {},
   "outputs": [],
   "source": [
    "# linee del file in input\n",
    "lines = (rawData.filter(bool)\n",
    "            .map(remove_number_some_punctuation_marks)\n",
    "            .map(lambda x : ' '.join(x.split()))\n",
    "            )\n",
    "\n",
    "# METTO TUTTO IL TESTO IN UNA STRINGA UNICA\n",
    "text = ''\n",
    "for s in lines.collect():\n",
    "    text += s + ' '\n",
    "\n",
    "text = text.replace(\"?\", \".\")\n",
    "text = text.replace(\"!\", \".\")\n",
    "\n",
    "# LISTA DI STRINGHE. ESSE SONO FRASI\n",
    "sentences = text.split(\".\")\n",
    "\n",
    "# LISTA DI LISTE CHE CONTENGONO LE PAROLE DI UNA FRASE\n",
    "senteces_collection = sc.parallelize(sentences).map(lambda x: x.split()).collect()\n",
    "\n",
    "#print(senteces_collection)\n",
    "\n",
    "# 81\n",
    "print(maximum_sentence_length(senteces_collection))\n",
    "# 1\n",
    "print(minimum_sentence_length(senteces_collection))\n",
    "# 17.473563218390805\n",
    "print(average_sentence_length(senteces_collection))"
   ]
  },
  {
   "cell_type": "code",
   "execution_count": 49,
   "metadata": {},
   "outputs": [
    {
     "data": {
      "text/plain": [
       "0.06589147286821706"
      ]
     },
     "execution_count": 49,
     "metadata": {},
     "output_type": "execute_result"
    }
   ],
   "source": [
    "prob_of_the_most_freq_sentence_len(senteces_collection)"
   ]
  },
  {
   "cell_type": "code",
   "execution_count": 26,
   "metadata": {},
   "outputs": [
    {
     "data": {
      "text/plain": [
       "[('the', 0.04513157894736842),\n",
       " ('i', 0.03605263157894737),\n",
       " ('and', 0.0325),\n",
       " ('to', 0.02368421052631579),\n",
       " ('of', 0.02131578947368421),\n",
       " ('a', 0.019736842105263157),\n",
       " ('my', 0.01631578947368421),\n",
       " ('that', 0.016052631578947367),\n",
       " ('in', 0.015921052631578947),\n",
       " ('was', 0.015394736842105263),\n",
       " ('said', 0.012236842105263157),\n",
       " ('he', 0.01118421052631579),\n",
       " ('as', 0.011052631578947368),\n",
       " ('but', 0.009736842105263158),\n",
       " ('at', 0.009605263157894737),\n",
       " ('you', 0.008947368421052631),\n",
       " ('for', 0.008815789473684211),\n",
       " ('it', 0.008552631578947369),\n",
       " ('me', 0.008421052631578947),\n",
       " ('had', 0.007894736842105263),\n",
       " ('with', 0.007236842105263158),\n",
       " ('not', 0.00631578947368421),\n",
       " ('all', 0.0061842105263157894),\n",
       " (\"o'conor\", 0.0061842105263157894),\n",
       " ('his', 0.005789473684210527),\n",
       " ('were', 0.005789473684210527),\n",
       " ('on', 0.005394736842105263),\n",
       " ('so', 0.005),\n",
       " ('there', 0.004736842105263158),\n",
       " ('we', 0.004736842105263158)]"
      ]
     },
     "execution_count": 26,
     "metadata": {},
     "output_type": "execute_result"
    }
   ],
   "source": [
    "prob_distr_of_30_most_common_words(word_count)"
   ]
  },
  {
   "cell_type": "code",
   "execution_count": 29,
   "metadata": {},
   "outputs": [
    {
     "data": {
      "text/plain": [
       "('i', 0.03605263157894737)"
      ]
     },
     "execution_count": 29,
     "metadata": {},
     "output_type": "execute_result"
    }
   ],
   "source": [
    "prob_of_the_most_common_word(word_count)"
   ]
  },
  {
   "cell_type": "code",
   "execution_count": 35,
   "metadata": {},
   "outputs": [
    {
     "data": {
      "text/plain": [
       "27.64"
      ]
     },
     "execution_count": 35,
     "metadata": {},
     "output_type": "execute_result"
    }
   ],
   "source": [
    "avg_distance_consec_appear_MCW(data)"
   ]
  },
  {
   "cell_type": "code",
   "execution_count": 37,
   "metadata": {},
   "outputs": [
    {
     "data": {
      "text/plain": [
       "2"
      ]
     },
     "execution_count": 37,
     "metadata": {},
     "output_type": "execute_result"
    }
   ],
   "source": [
    "min_distance_consec_appear_MCW(data)"
   ]
  },
  {
   "cell_type": "code",
   "execution_count": 38,
   "metadata": {},
   "outputs": [
    {
     "data": {
      "text/plain": [
       "176"
      ]
     },
     "execution_count": 38,
     "metadata": {},
     "output_type": "execute_result"
    }
   ],
   "source": [
    "max_distance_consec_appear_MCW(data)"
   ]
  },
  {
   "cell_type": "code",
   "execution_count": 40,
   "metadata": {},
   "outputs": [
    {
     "data": {
      "text/plain": [
       "22.09593023255814"
      ]
     },
     "execution_count": 40,
     "metadata": {},
     "output_type": "execute_result"
    }
   ],
   "source": [
    "avg_distance_consec_appear_of_The(data)"
   ]
  },
  {
   "cell_type": "code",
   "execution_count": 41,
   "metadata": {},
   "outputs": [
    {
     "data": {
      "text/plain": [
       "1"
      ]
     },
     "execution_count": 41,
     "metadata": {},
     "output_type": "execute_result"
    }
   ],
   "source": [
    "min_distance_consec_appear_of_The(data)"
   ]
  },
  {
   "cell_type": "code",
   "execution_count": 42,
   "metadata": {},
   "outputs": [
    {
     "data": {
      "text/plain": [
       "115"
      ]
     },
     "execution_count": 42,
     "metadata": {},
     "output_type": "execute_result"
    }
   ],
   "source": [
    "max_distance_consec_appear_of_The(data)"
   ]
  },
  {
   "cell_type": "code",
   "execution_count": 55,
   "metadata": {},
   "outputs": [
    {
     "data": {
      "text/plain": [
       "0.04513157894736842"
      ]
     },
     "execution_count": 55,
     "metadata": {},
     "output_type": "execute_result"
    }
   ],
   "source": [
    "prob_of_The(word_count)"
   ]
  },
  {
   "cell_type": "code",
   "execution_count": 69,
   "metadata": {},
   "outputs": [
    {
     "data": {
      "text/plain": [
       "14.675675675675675"
      ]
     },
     "execution_count": 69,
     "metadata": {},
     "output_type": "execute_result"
    }
   ],
   "source": [
    "avg_distance_consec_appear_of_comma(senteces_collection)"
   ]
  },
  {
   "cell_type": "code",
   "execution_count": 70,
   "metadata": {},
   "outputs": [
    {
     "data": {
      "text/plain": [
       "1"
      ]
     },
     "execution_count": 70,
     "metadata": {},
     "output_type": "execute_result"
    }
   ],
   "source": [
    "min_distance_consec_appear_of_comma(senteces_collection)"
   ]
  },
  {
   "cell_type": "code",
   "execution_count": 71,
   "metadata": {},
   "outputs": [
    {
     "data": {
      "text/plain": [
       "92"
      ]
     },
     "execution_count": 71,
     "metadata": {},
     "output_type": "execute_result"
    }
   ],
   "source": [
    "max_distance_consec_appear_of_comma(senteces_collection)"
   ]
  },
  {
   "cell_type": "code",
   "execution_count": 75,
   "metadata": {},
   "outputs": [
    {
     "data": {
      "text/plain": [
       "0.5852713178294574"
      ]
     },
     "execution_count": 75,
     "metadata": {},
     "output_type": "execute_result"
    }
   ],
   "source": [
    "prob_of_comma(senteces_collection)"
   ]
  }
 ],
 "metadata": {
  "kernelspec": {
   "display_name": "Python 3",
   "language": "python",
   "name": "python3"
  },
  "language_info": {
   "codemirror_mode": {
    "name": "ipython",
    "version": 3
   },
   "file_extension": ".py",
   "mimetype": "text/x-python",
   "name": "python",
   "nbconvert_exporter": "python",
   "pygments_lexer": "ipython3",
   "version": "3.7.6"
  }
 },
 "nbformat": 4,
 "nbformat_minor": 4
}
