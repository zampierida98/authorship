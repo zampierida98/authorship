{
 "cells": [
  {
   "cell_type": "markdown",
   "metadata": {},
   "source": [
    "## Attributi sull'intero testo\n",
    "\n",
    "- Dimensione del vocabolario (V)\n",
    "- Lunghezza del testo in numero di parole (T)\n",
    "- Rapporto V/T\n",
    "- Entropia (H)"
   ]
  },
  {
   "cell_type": "code",
   "execution_count": 12,
   "metadata": {},
   "outputs": [],
   "source": [
    "import math\n",
    "\n",
    "def word_counter(RDD):\n",
    "    '''\n",
    "    Data una RDD, conta quante volte compare ogni parola ritornando anche la dimensione del vocabolario.\n",
    "    \n",
    "    Parameters\n",
    "    ----------\n",
    "    RDD : RDD\n",
    "        RDD del file in input\n",
    "\n",
    "    Returns\n",
    "    -------\n",
    "    (RDD, int)\n",
    "        RDD dell'output del word count e dimensione del vocabolario\n",
    "    '''\n",
    "    \n",
    "    word_counter = (RDD.flatMap(lambda x: x)\n",
    "                    .map(lambda x: (x,1))\n",
    "                    .reduceByKey(lambda a,b: a+b)\n",
    "                    .sortBy(lambda x: -x[1])\n",
    "                   )\n",
    "    \n",
    "    return word_counter, word_counter.count()\n",
    "\n",
    "def text_length_in_words(RDD_word_counter):\n",
    "    '''\n",
    "    Calcola la lunghezza del testo in termini di numero di parole.\n",
    "    \n",
    "    Parameters\n",
    "    ----------\n",
    "    RDD_word_counter : RDD\n",
    "        RDD dell'output del word count\n",
    "\n",
    "    Returns\n",
    "    -------\n",
    "    int\n",
    "        numero di parole totali presenti nel testo\n",
    "    '''\n",
    "\n",
    "    return (RDD_word_counter.map(lambda x: x[1])\n",
    "            .reduce(lambda a,b: a+b)\n",
    "           )\n",
    "\n",
    "def entropy(RDD_word_counter, text_len):\n",
    "    '''\n",
    "    Calcola l'entropia (numero medio di bit richiesti per rappresentare tutte le parole del testo).\n",
    "    \n",
    "    Parameters\n",
    "    ----------\n",
    "    RDD_word_counter : RDD\n",
    "        RDD dell'output del word count\n",
    "    text_len : int\n",
    "        numero di parole totali presenti nel testo\n",
    "\n",
    "    Returns\n",
    "    -------\n",
    "    float\n",
    "        valore dell'entropia\n",
    "    '''\n",
    "    \n",
    "    return -(RDD_word_counter.map(lambda x: (x[1]/text_len) * math.log2(x[1]/text_len))\n",
    "             .reduce(lambda a,b: a+b)\n",
    "            )    # l'entropia ha segno negativo"
   ]
  },
  {
   "cell_type": "markdown",
   "metadata": {},
   "source": [
    "## Attributi sulle frasi\n",
    "\n",
    "- Lunghezza massima di una frase (MSL)\n",
    "- Lunghezza media di una frase (ASL)\n",
    "- Lunghezza minima di una frase (mSL)"
   ]
  },
  {
   "cell_type": "code",
   "execution_count": 5,
   "metadata": {},
   "outputs": [],
   "source": [
    "def sentence_lengths(RDD):\n",
    "    '''\n",
    "    Ritorna una lista che contiene le lunghezze (in termini di numero di parole) di tutte le frasi di un testo.\n",
    "    \n",
    "    Parameters\n",
    "    ----------\n",
    "    RDD : RDD\n",
    "        RDD del file in input\n",
    "\n",
    "    Returns\n",
    "    -------\n",
    "    list\n",
    "        lunghezze delle frasi\n",
    "    '''\n",
    "    \n",
    "    # OPERAZIONI PRELIMINARI SUL TESTO\n",
    "    text = RDD.flatMap(lambda x: x).reduce(lambda a,b: a + ' ' + b) # METTO TUTTO IL TESTO IN UNA STRINGA UNICA\n",
    "    text = text.replace(\"?\", \".\") # ? TERMINA UNA FRASE\n",
    "    text = text.replace(\"!\", \".\") # ! TERMINA UNA FRASE\n",
    "    text = text.split('. ') # SPLITTO QUANDO TROVO UN CARATTERE CHE TERMINA UNA FRASE (. SEGUITO DA UNO SPAZIO)\n",
    "    \n",
    "    return (sc.parallelize(text)\n",
    "            .map(lambda x: len(x.split(' ')))\n",
    "            .collect()\n",
    "           ) # PER OGNI FRASE TROVATA CONTO LE SUE PAROLE"
   ]
  },
  {
   "cell_type": "markdown",
   "metadata": {},
   "source": [
    "## Attributi sulla probabilità delle parole\n",
    "\n",
    "- Distribuzione di probabilità delle 30 parole più comuni (PkMCW)\n",
    "- Probabilità della parola più comune escludendo 'and' e 'the' (pMCW)\n",
    "- Probabilità della parola più comune escludendo articoli e preposizioni (pMCWx)\n",
    "- Probabilità della parola 'the' (pThe)"
   ]
  },
  {
   "cell_type": "code",
   "execution_count": 40,
   "metadata": {},
   "outputs": [],
   "source": [
    "def prob_distr_of_30_most_common_words(RDD_word_counter, text_len):\n",
    "    '''\n",
    "    Ritorna la distribuzione di probabilità delle 30 parole più comuni.\n",
    "    \n",
    "    Parameters\n",
    "    ----------\n",
    "    RDD_word_counter : RDD\n",
    "        RDD dell'output del word count\n",
    "    text_len : int\n",
    "        numero di parole totali presenti nel testo\n",
    "\n",
    "    Returns\n",
    "    -------\n",
    "    RDD\n",
    "        RDD che contiene la distribuzione di probabilità\n",
    "    '''\n",
    "    \n",
    "    return sc.parallelize(RDD_word_counter.map(lambda x: (x[0], x[1]/text_len)).take(30))\n",
    "\n",
    "def prob_of_the_most_common_word(RDD_word_counter, text_len):\n",
    "    '''\n",
    "    Ritorna la probabilità della parola più comune (escludendo 'and' e 'the').\n",
    "    \n",
    "    Parameters\n",
    "    ----------\n",
    "    RDD_word_counter : RDD\n",
    "        RDD dell'output del word count\n",
    "    text_len : int\n",
    "        numero di parole totali presenti nel testo\n",
    "\n",
    "    Returns\n",
    "    -------\n",
    "    RDD\n",
    "        RDD che contiene la probabilità della MCW\n",
    "    '''\n",
    "    \n",
    "    return sc.parallelize(prob_distr_of_30_most_common_words(RDD_word_counter, text_len)\n",
    "                          .filter(lambda x: x[0] != \"and\" and x[0] != \"the\")\n",
    "                          .take(1)\n",
    "                         )\n",
    "\n",
    "def prob_of_the_most_common_word_x(RDD_word_counter, text_len):\n",
    "    '''\n",
    "    Ritorna la probabilità della parola più comune (escludendo articoli e preposizioni).\n",
    "    \n",
    "    Parameters\n",
    "    ----------\n",
    "    RDD_word_counter : RDD\n",
    "        RDD dell'output del word count\n",
    "    text_len : int\n",
    "        numero di parole totali presenti nel testo\n",
    "\n",
    "    Returns\n",
    "    -------\n",
    "    RDD\n",
    "        RDD che contiene la probabilità della MCW\n",
    "    '''\n",
    "    \n",
    "    prep_art = open(\"preposizioni_e_articoli.txt\").read().splitlines()\n",
    "    \n",
    "    return sc.parallelize(prob_distr_of_30_most_common_words(RDD_word_counter, text_len)\n",
    "                          .filter(lambda x: x[0] not in prep_art)\n",
    "                          .take(1)\n",
    "                         )\n",
    "\n",
    "def prob_of_The(RDD_word_counter, text_len):\n",
    "    '''\n",
    "    Ritorna la probabilità della parola 'The'.\n",
    "    \n",
    "    Parameters\n",
    "    ----------\n",
    "    RDD_word_counter : RDD\n",
    "        RDD dell'output del word count\n",
    "    text_len : int\n",
    "        numero di parole totali presenti nel testo\n",
    "\n",
    "    Returns\n",
    "    -------\n",
    "    RDD\n",
    "        RDD che contiene la probabilità di 'The'\n",
    "    '''\n",
    "    \n",
    "    return (RDD_word_counter.filter(lambda x: x[0] == \"the\")\n",
    "            .map(lambda x: (x[0], x[1]/text_len))\n",
    "           )"
   ]
  },
  {
   "cell_type": "markdown",
   "metadata": {},
   "source": [
    "# MAIN"
   ]
  },
  {
   "cell_type": "code",
   "execution_count": 14,
   "metadata": {},
   "outputs": [
    {
     "data": {
      "text/plain": [
       "PythonRDD[35] at RDD at PythonRDD.scala:53"
      ]
     },
     "execution_count": 14,
     "metadata": {},
     "output_type": "execute_result"
    }
   ],
   "source": [
    "def remove_number_some_punctuation_marks(row):\n",
    "    lowercase = row.lower()\n",
    "    lowercase = lowercase.replace(\"--\", \" \")\n",
    "    \n",
    "    res = \"\"\n",
    "    \n",
    "    for char in lowercase:\n",
    "        if not ('0' <= char <= '9' or char == '\"'):\n",
    "            res += char\n",
    "\n",
    "    return res\n",
    "\n",
    "def remove_number_punctuation_marks(row):\n",
    "    lowercase = row.lower()\n",
    "    lowercase = lowercase.replace(\"--\", \" \")\n",
    "    \n",
    "    res = \"\"\n",
    "    \n",
    "    for char in lowercase:\n",
    "        if 'a' <= char <= 'z' or char == ' ' or char == '-' or char == \"'\":\n",
    "            res += char\n",
    "\n",
    "    return res\n",
    "\n",
    "def load_file_without_punctuations_marks(filepath):\n",
    "    # caricamento del dataset\n",
    "    raw_text = sc.textFile(filepath)\n",
    "\n",
    "    # rimuoviamo i numeri e i segni di punteggiatura\n",
    "    \n",
    "    return (raw_text.filter(bool)                    # rimuoviamo le stringhe vuote\n",
    "        .map(remove_number_punctuation_marks)\n",
    "        .map(lambda x : ' '.join(x.split()))        # rimuoviamo diversi spazi bianchi con uno\n",
    "        .map(lambda row : row.split(\" \"))\n",
    "       )\n",
    "\n",
    "def load_file_without_number(filepath):\n",
    "    # caricamento del dataset\n",
    "    raw_text = sc.textFile(filepath)\n",
    "\n",
    "    # rimuoviamo i numeri e i segni di punteggiatura\n",
    "    \n",
    "    return (raw_text.filter(bool)                    # rimuoviamo le stringhe vuote\n",
    "        .map(remove_number_some_punctuation_marks)\n",
    "        .map(lambda x : ' '.join(x.split()))        # rimuoviamo diversi spazi bianchi con uno\n",
    "        .map(lambda row : row.split(\" \"))\n",
    "       )\n",
    "\n",
    "def getCollection(RDD):\n",
    "    return RDD.collect()\n",
    "\n",
    "def getValue(RDD):\n",
    "    return RDD.collect()[0]\n",
    "\n",
    "\n",
    "data = load_file_without_punctuations_marks(\"datasets/Anthony Trollope___The O'Conors of Castle Conor from Tales from all Countries.txt\")\n",
    "data.persist()"
   ]
  },
  {
   "cell_type": "code",
   "execution_count": 15,
   "metadata": {},
   "outputs": [
    {
     "name": "stdout",
     "output_type": "stream",
     "text": [
      "V:\t 1558\n",
      "T:\t 7653\n",
      "V/T:\t 0.20358029530902913\n",
      "H:\t 8.605861060321123\n"
     ]
    }
   ],
   "source": [
    "RDD_word_counter, vocabulary_size = word_counter(data)\n",
    "print(\"V:\\t\", vocabulary_size)\n",
    "\n",
    "text_length = text_length_in_words(RDD_word_counter)\n",
    "print(\"T:\\t\", text_length)\n",
    "\n",
    "print(\"V/T:\\t\", vocabulary_size/text_length)\n",
    "\n",
    "entropy_value = entropy(RDD_word_counter, text_length)\n",
    "print(\"H:\\t\", entropy_value)"
   ]
  },
  {
   "cell_type": "code",
   "execution_count": 52,
   "metadata": {},
   "outputs": [
    {
     "data": {
      "text/plain": [
       "PythonRDD[336] at RDD at PythonRDD.scala:53"
      ]
     },
     "execution_count": 52,
     "metadata": {},
     "output_type": "execute_result"
    }
   ],
   "source": [
    "sentences_data = load_file_without_number(\"datasets/Anthony Trollope___The O'Conors of Castle Conor from Tales from all Countries.txt\")\n",
    "sentences_data.persist()"
   ]
  },
  {
   "cell_type": "code",
   "execution_count": 54,
   "metadata": {},
   "outputs": [
    {
     "name": "stdout",
     "output_type": "stream",
     "text": [
      "MSL:\t 84\n",
      "ASL:\t 14.862135922330097\n",
      "mSL:\t 1\n"
     ]
    }
   ],
   "source": [
    "lengths = sentence_lengths(sentences_data)\n",
    "print(\"MSL:\\t\", max(lengths))\n",
    "print(\"ASL:\\t\", sum(lengths)/len(lengths))\n",
    "print(\"mSL:\\t\", min(lengths))"
   ]
  },
  {
   "cell_type": "code",
   "execution_count": 38,
   "metadata": {},
   "outputs": [
    {
     "name": "stdout",
     "output_type": "stream",
     "text": [
      "PkMCW:\t [('the', 0.04494969293087678), ('i', 0.036717627074349925), ('and', 0.033320266562132494), ('to', 0.023650855873513656), ('of', 0.021298837057363126), ('a', 0.019730824513262774), ('my', 0.01620279628903698), ('that', 0.016072128577028617), ('in', 0.015941460865020254), ('was', 0.01528812230497844), ('said', 0.012152097216777734), ('as', 0.011106755520710831), ('he', 0.011106755520710831), ('at', 0.009930746112635568), ('but', 0.009669410688618842), ('you', 0.009277407552593753), ('for', 0.009146739840585392), ('me', 0.00862406899255194), ('it', 0.00862406899255194), ('had', 0.007840062720501764), ('with', 0.00718672416045995), ('not', 0.006533385600418136), (\"o'conor\", 0.006272050176401411), ('all', 0.006141382464393048), ('his', 0.005880047040376323), ('were', 0.00574937932836796), ('on', 0.005618711616359597), ('so', 0.004965373056317784), ('there', 0.004704037632301058), ('we', 0.004704037632301058)]\n",
      "pMCW:\t ('i', 0.036717627074349925)\n",
      "pMCWx:\t ('i', 0.036717627074349925)\n",
      "pThe:\t ('the', 0.04494969293087678)\n"
     ]
    }
   ],
   "source": [
    "RDD_prob_distr_of_30 = prob_distr_of_30_most_common_words(RDD_word_counter, text_length)\n",
    "print(\"PkMCW:\\t\", getCollection(RDD_prob_distr_of_30))\n",
    "\n",
    "RDD_prob_the_most_common_word_1 = prob_of_the_most_common_word(RDD_word_counter, text_length)\n",
    "print(\"pMCW:\\t\", getValue(RDD_prob_the_most_common_word_1))\n",
    "\n",
    "RDD_prob_the_most_common_word_2 = prob_of_the_most_common_word_x(RDD_word_counter, text_length)\n",
    "print(\"pMCWx:\\t\", getValue(RDD_prob_the_most_common_word_2))\n",
    "\n",
    "RDD_prob_the = prob_of_The(RDD_word_counter, text_length)\n",
    "print(\"pThe:\\t\", getValue(RDD_prob_the))"
   ]
  },
  {
   "cell_type": "code",
   "execution_count": null,
   "metadata": {},
   "outputs": [],
   "source": []
  }
 ],
 "metadata": {
  "kernelspec": {
   "display_name": "Python 3",
   "language": "python",
   "name": "python3"
  },
  "language_info": {
   "codemirror_mode": {
    "name": "ipython",
    "version": 3
   },
   "file_extension": ".py",
   "mimetype": "text/x-python",
   "name": "python",
   "nbconvert_exporter": "python",
   "pygments_lexer": "ipython3",
   "version": "3.7.6"
  }
 },
 "nbformat": 4,
 "nbformat_minor": 4
}
