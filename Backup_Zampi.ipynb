{
 "cells": [
  {
   "cell_type": "code",
   "execution_count": null,
   "metadata": {},
   "outputs": [],
   "source": [
    "'''\n",
    "Manipolazione dei dati per estrarre la lunghezza (in parole) delle frasi\n",
    "'''\n",
    "\n",
    "import re\n",
    "\n",
    "sentences = (rawData.filter(bool)\n",
    "            .map(remove_number_some_punctuation_marks)\n",
    "            .map(lambda x : ' '.join(x.split()))\n",
    "            )  \n",
    "#print(sentences.collect())\n",
    "\n",
    "# METTO TUTTO IL TESTO IN UNA STRINGA UNICA\n",
    "text = ''\n",
    "for s in sentences.collect():\n",
    "    text += s + ' '\n",
    "#print(text)\n",
    "\n",
    "# SPLITTO QUANDO TROVO UN CARATTERE CHE TERMINA UNA FRASE\n",
    "if re.search('[a-z]+[.!?][ ]', text):\n",
    "    new_text = text.split('. ') #manca ! e ?\n",
    "#print(new_text)\n",
    "\n",
    "# PER OGNI FRASE TROVATA CONTO LE SUE PAROLE\n",
    "def words_in_sentence(x):\n",
    "    words = x.split(' ')\n",
    "    return len(words)\n",
    "\n",
    "sentence_lenght = sc.parallelize(new_text).map(words_in_sentence).collect()\n",
    "#print(sentence_lenght)\n",
    "\n",
    "print(max(sentence_lenght))\n",
    "print(min(sentence_lenght))\n",
    "print(sum(sentence_lenght)/len(sentence_lenght))\n",
    "\n",
    "#maximum_sentence_length(data.collect())\n",
    "#minimum_sentence_length(data.collect())\n",
    "#average_sentence_length(data.collect())"
   ]
  }
 ],
 "metadata": {
  "kernelspec": {
   "display_name": "Python 3",
   "language": "python",
   "name": "python3"
  },
  "language_info": {
   "codemirror_mode": {
    "name": "ipython",
    "version": 3
   },
   "file_extension": ".py",
   "mimetype": "text/x-python",
   "name": "python",
   "nbconvert_exporter": "python",
   "pygments_lexer": "ipython3",
   "version": "3.7.6"
  }
 },
 "nbformat": 4,
 "nbformat_minor": 4
}
