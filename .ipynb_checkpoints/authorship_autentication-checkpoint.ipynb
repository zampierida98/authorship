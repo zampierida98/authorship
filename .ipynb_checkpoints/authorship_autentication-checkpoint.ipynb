{
 "cells": [
  {
   "cell_type": "code",
   "execution_count": 10,
   "metadata": {},
   "outputs": [],
   "source": [
    "def remove_roman_numbers(row):\n",
    "    res = row\n",
    "    \n",
    "    for n in roman_numbers:\n",
    "        res = res.replace(n, \" \")\n",
    "    \n",
    "    return res\n",
    "\n",
    "def uniform_phrases(row):\n",
    "    lowercase = row.lower()\n",
    "    res = \"\"\n",
    "    \n",
    "    for char in lowercase:\n",
    "        if 'a' <= char <= 'z' or char == ' ':\n",
    "            res += char\n",
    "\n",
    "    return res"
   ]
  },
  {
   "cell_type": "code",
   "execution_count": 34,
   "metadata": {},
   "outputs": [
    {
     "data": {
      "text/plain": [
       "PythonRDD[138] at RDD at PythonRDD.scala:53"
      ]
     },
     "execution_count": 34,
     "metadata": {},
     "output_type": "execute_result"
    }
   ],
   "source": [
    "# DICHIARAZIONE VARIABILI GLOBALI\n",
    "\n",
    "roman_numbers = {\"II\", \"III\", \"IV\", \"V\", \"VI\", \"VII\", \"VIII\", \"IX\", \"X\", \n",
    "                 \"XI\", \"XII\", \"XIII\", \"XIV\", \"XV\", \"XVI\", \"XVII\", \"XVIII\", \"XIX\", \"XX\"}\n",
    "\n",
    "# CARICAMENTO DATASET\n",
    "\n",
    "rawData = sc.textFile(\"datasets/Andrew Lang___A Short History of Scotland.txt\")\n",
    "\n",
    "# RIMOZIONE NUMERI ROMANI, NUMERI, SEGNI DI PUNTEGGIATURA + LOWERCASE\n",
    "\n",
    "data = (rawData.map(remove_roman_numbers)\n",
    "        .map(uniform_phrases)\n",
    "        .map(lambda x : ' '.join(x.split()))    # rimuoviamo diversi spazi bianchi con uno\n",
    "        .map(lambda row : row.split(\" \"))\n",
    "       )\n",
    "\n",
    "# POSIAMO I DATI NELLA CACHE\n",
    "\n",
    "data.persist()\n"
   ]
  },
  {
   "cell_type": "code",
   "execution_count": 35,
   "metadata": {},
   "outputs": [
    {
     "data": {
      "text/plain": [
       "[('the', 6605), ('of', 4081), ('and', 2918), ('to', 2032), ('in', 1911)]"
      ]
     },
     "execution_count": 35,
     "metadata": {},
     "output_type": "execute_result"
    }
   ],
   "source": [
    "word_counter = (data.flatMap(lambda x: x)\n",
    "                .map(lambda x: (x,1))\n",
    "                .reduceByKey(lambda a,b: a+b)\n",
    "                .sortBy(lambda x: -x[1])\n",
    "               )\n",
    "word_counter.take(5)"
   ]
  }
 ],
 "metadata": {
  "kernelspec": {
   "display_name": "Python 3",
   "language": "python",
   "name": "python3"
  },
  "language_info": {
   "codemirror_mode": {
    "name": "ipython",
    "version": 3
   },
   "file_extension": ".py",
   "mimetype": "text/x-python",
   "name": "python",
   "nbconvert_exporter": "python",
   "pygments_lexer": "ipython3",
   "version": "3.7.6"
  }
 },
 "nbformat": 4,
 "nbformat_minor": 4
}
